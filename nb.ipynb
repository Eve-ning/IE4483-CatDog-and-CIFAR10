{
 "cells": [
  {
   "cell_type": "code",
   "execution_count": 3,
   "outputs": [],
   "source": [
    "from pathlib import Path\n",
    "\n",
    "import torch\n",
    "from torch.utils.data import DataLoader\n",
    "from torchvision import transforms\n",
    "from torchvision.datasets import ImageFolder\n",
    "\n",
    "DATASET_PATH = Path(\"datasets\")\n",
    "TRAIN_PATH = DATASET_PATH / \"train\"\n",
    "TEST_PATH = DATASET_PATH / \"test\"\n",
    "VAL_PATH = DATASET_PATH / \"val\"\n",
    "img_size = 128\n",
    "train_ds = ImageFolder(\n",
    "    TRAIN_PATH.as_posix(),\n",
    "    transforms.Compose([\n",
    "        transforms.Resize([img_size, img_size]),\n",
    "        # transforms.RandomHorizontalFlip(),\n",
    "        # transforms.RandomRotation(15),\n",
    "        # transforms.RandomAffine(15),\n",
    "        # transforms.GaussianBlur(5, (0.1, 0.5)),\n",
    "        # transforms.ColorJitter(0.2, 0.2, 0.1, 0.01),\n",
    "        # transforms.CenterCrop(img_size),\n",
    "        transforms.ToTensor(),\n",
    "    ]))\n",
    "train_dl = DataLoader(train_ds)\n",
    "val_ds = ImageFolder(\n",
    "    VAL_PATH.as_posix(),\n",
    "    transforms.Compose([\n",
    "        transforms.Resize([img_size, img_size]),\n",
    "        # transforms.CenterCrop(img_size),\n",
    "        transforms.ToTensor(),\n",
    "    ])\n",
    ")\n",
    "val_dl = DataLoader(val_ds)"
   ],
   "metadata": {
    "collapsed": false,
    "pycharm": {
     "name": "#%%\n"
    }
   }
  },
  {
   "cell_type": "code",
   "execution_count": null,
   "outputs": [],
   "source": [
    "# Create a CNN Module\n",
    "import torch\n",
    "import torch.nn as nn\n",
    "import torch.nn.functional as F\n",
    "\n",
    "\n",
    "class CNNBlock(nn.Module):\n",
    "    def __init__(self, c_in, c_out, kernel=3):\n",
    "        super(CNNBlock, self).__init__()\n",
    "\n",
    "        self.net = nn.Sequential(\n",
    "            nn.Conv2d(c_in, c_out, kernel, 1, int((kernel - 1) // 2)),\n",
    "            nn.BatchNorm2d(c_out),\n",
    "            nn.ReLU(inplace=True),\n",
    "        )\n",
    "\n",
    "    def forward(self, x):\n",
    "        return self.net(x)\n",
    "\n",
    "\n",
    "class CNN(nn.Module):\n",
    "    def __init__(self):\n",
    "        super(CNN, self).__init__()\n",
    "\n",
    "        self.net = nn.Sequential(\n",
    "            CNNBlock(3, 16, 7),\n",
    "            CNNBlock(16, 16, 5),\n",
    "            nn.AvgPool2d(2, 2),\n",
    "            CNNBlock(16, 32),\n",
    "            CNNBlock(32, 32),\n",
    "            nn.AvgPool2d(2, 2),\n",
    "            CNNBlock(32, 64),\n",
    "            CNNBlock(64, 64),\n",
    "            nn.AvgPool2d(2, 2),\n",
    "            CNNBlock(64, 128),\n",
    "            CNNBlock(128, 128),\n",
    "            nn.AvgPool2d(2, 2),\n",
    "            CNNBlock(128, 128),\n",
    "            nn.AvgPool2d(2, 2),\n",
    "            CNNBlock(128, 128),\n",
    "            nn.AvgPool2d(2, 2),\n",
    "            CNNBlock(128, 128),\n",
    "            nn.AvgPool2d(2, 2),\n",
    "            nn.Flatten(),\n",
    "            nn.Linear(128, 2),\n",
    "            nn.Dropout(0.1),\n",
    "            nn.Softmax(dim=1),\n",
    "        )\n",
    "\n",
    "    def forward(self, x):\n",
    "        return self.net(x)\n",
    "\n",
    "\n",
    "CNN()(torch.rand([5, 3, img_size, img_size]))"
   ],
   "metadata": {
    "collapsed": false,
    "pycharm": {
     "name": "#%%\n"
    }
   }
  },
  {
   "cell_type": "code",
   "execution_count": 26,
   "outputs": [
    {
     "data": {
      "text/plain": "=================================================================\nLayer (type:depth-idx)                   Param #\n=================================================================\nCNN                                      --\n├─Sequential: 1-1                        --\n│    └─CNNBlock: 2-1                     --\n│    │    └─Sequential: 3-1              2,400\n│    └─CNNBlock: 2-2                     --\n│    │    └─Sequential: 3-2              6,448\n│    └─AvgPool2d: 2-3                    --\n│    └─CNNBlock: 2-4                     --\n│    │    └─Sequential: 3-3              4,704\n│    └─CNNBlock: 2-5                     --\n│    │    └─Sequential: 3-4              9,312\n│    └─AvgPool2d: 2-6                    --\n│    └─CNNBlock: 2-7                     --\n│    │    └─Sequential: 3-5              18,624\n│    └─CNNBlock: 2-8                     --\n│    │    └─Sequential: 3-6              37,056\n│    └─AvgPool2d: 2-9                    --\n│    └─CNNBlock: 2-10                    --\n│    │    └─Sequential: 3-7              74,112\n│    └─CNNBlock: 2-11                    --\n│    │    └─Sequential: 3-8              147,840\n│    └─AvgPool2d: 2-12                   --\n│    └─CNNBlock: 2-13                    --\n│    │    └─Sequential: 3-9              147,840\n│    └─AvgPool2d: 2-14                   --\n│    └─CNNBlock: 2-15                    --\n│    │    └─Sequential: 3-10             147,840\n│    └─AvgPool2d: 2-16                   --\n│    └─CNNBlock: 2-17                    --\n│    │    └─Sequential: 3-11             147,840\n│    └─AvgPool2d: 2-18                   --\n│    └─Flatten: 2-19                     --\n│    └─Linear: 2-20                      258\n│    └─Dropout: 2-21                     --\n│    └─Softmax: 2-22                     --\n=================================================================\nTotal params: 744,274\nTrainable params: 744,274\nNon-trainable params: 0\n================================================================="
     },
     "execution_count": 26,
     "metadata": {},
     "output_type": "execute_result"
    }
   ],
   "source": [
    "from torchinfo import summary\n",
    "summary(CNN())"
   ],
   "metadata": {
    "collapsed": false,
    "pycharm": {
     "name": "#%%\n"
    }
   }
  },
  {
   "cell_type": "code",
   "execution_count": 27,
   "outputs": [],
   "source": [
    "# Create a pytorch lightning module\n",
    "import pytorch_lightning as pl\n",
    "\n",
    "\n",
    "class LitModel(pl.LightningModule):\n",
    "    def __init__(self):\n",
    "        super().__init__()\n",
    "        self.model = CNN()\n",
    "\n",
    "    def forward(self, x):\n",
    "        return self.model(x)\n",
    "\n",
    "    def training_step(self, batch, batch_idx):\n",
    "        x, y = batch\n",
    "        y_hat = self(x)\n",
    "        loss = F.cross_entropy(y_hat, y)\n",
    "        acc = torch.sum(torch.argmax(y_hat, dim=1) == y) / y.shape[0]\n",
    "        self.log(\"train_acc\", acc)\n",
    "        return loss\n",
    "\n",
    "    def validation_step(self, batch, batch_idx):\n",
    "        x, y = batch\n",
    "        y_hat = self(x)\n",
    "        acc = torch.sum(torch.argmax(y_hat, dim=1) == y) / y.shape[0]\n",
    "        self.log(\"acc\", acc)\n",
    "\n",
    "    def configure_optimizers(self):\n",
    "        return torch.optim.Adam(self.parameters(), lr=0.0005, weight_decay=0.00001)\n"
   ],
   "metadata": {
    "collapsed": false,
    "pycharm": {
     "name": "#%%\n"
    }
   }
  },
  {
   "cell_type": "code",
   "execution_count": 28,
   "outputs": [],
   "source": [
    "model = LitModel()"
   ],
   "metadata": {
    "collapsed": false,
    "pycharm": {
     "name": "#%%\n"
    }
   }
  },
  {
   "cell_type": "code",
   "execution_count": 29,
   "outputs": [
    {
     "name": "stderr",
     "output_type": "stream",
     "text": [
      "GPU available: True (cuda), used: True\n",
      "TPU available: False, using: 0 TPU cores\n",
      "IPU available: False, using: 0 IPUs\n",
      "HPU available: False, using: 0 HPUs\n",
      "LOCAL_RANK: 0 - CUDA_VISIBLE_DEVICES: [0]\n",
      "\n",
      "  | Name  | Type | Params\n",
      "-------------------------------\n",
      "0 | model | CNN  | 744 K \n",
      "-------------------------------\n",
      "744 K     Trainable params\n",
      "0         Non-trainable params\n",
      "744 K     Total params\n",
      "2.977     Total estimated model params size (MB)\n"
     ]
    },
    {
     "data": {
      "text/plain": "Sanity Checking: 0it [00:00, ?it/s]",
      "application/vnd.jupyter.widget-view+json": {
       "version_major": 2,
       "version_minor": 0,
       "model_id": "3eecbd85c71a4bd29f012c09d42cc3e5"
      }
     },
     "metadata": {},
     "output_type": "display_data"
    },
    {
     "name": "stderr",
     "output_type": "stream",
     "text": [
      "C:\\Users\\johnc\\anaconda3\\envs\\IE4483\\lib\\site-packages\\pytorch_lightning\\trainer\\connectors\\data_connector.py:236: PossibleUserWarning: The dataloader, val_dataloader 0, does not have many workers which may be a bottleneck. Consider increasing the value of the `num_workers` argument` (try 16 which is the number of cpus on this machine) in the `DataLoader` init to improve performance.\n",
      "  rank_zero_warn(\n"
     ]
    },
    {
     "data": {
      "text/plain": "Training: 0it [00:00, ?it/s]",
      "application/vnd.jupyter.widget-view+json": {
       "version_major": 2,
       "version_minor": 0,
       "model_id": "49d2550129c1443ca50d9592ef843a65"
      }
     },
     "metadata": {},
     "output_type": "display_data"
    },
    {
     "data": {
      "text/plain": "Validation: 0it [00:00, ?it/s]",
      "application/vnd.jupyter.widget-view+json": {
       "version_major": 2,
       "version_minor": 0,
       "model_id": "75323019ab2b4983a3ff36bbc12ab05e"
      }
     },
     "metadata": {},
     "output_type": "display_data"
    },
    {
     "data": {
      "text/plain": "Validation: 0it [00:00, ?it/s]",
      "application/vnd.jupyter.widget-view+json": {
       "version_major": 2,
       "version_minor": 0,
       "model_id": "a52cf76372904048a0ee055bcd1e93e1"
      }
     },
     "metadata": {},
     "output_type": "display_data"
    },
    {
     "data": {
      "text/plain": "Validation: 0it [00:00, ?it/s]",
      "application/vnd.jupyter.widget-view+json": {
       "version_major": 2,
       "version_minor": 0,
       "model_id": "354285c0f03841ab8b6f19d3cdeb35b2"
      }
     },
     "metadata": {},
     "output_type": "display_data"
    },
    {
     "data": {
      "text/plain": "Validation: 0it [00:00, ?it/s]",
      "application/vnd.jupyter.widget-view+json": {
       "version_major": 2,
       "version_minor": 0,
       "model_id": "934bd7fa94e04000b4f9113e9c9da39a"
      }
     },
     "metadata": {},
     "output_type": "display_data"
    },
    {
     "data": {
      "text/plain": "Validation: 0it [00:00, ?it/s]",
      "application/vnd.jupyter.widget-view+json": {
       "version_major": 2,
       "version_minor": 0,
       "model_id": "d3e802a456fe49e68d250aca1c7ff946"
      }
     },
     "metadata": {},
     "output_type": "display_data"
    },
    {
     "data": {
      "text/plain": "Validation: 0it [00:00, ?it/s]",
      "application/vnd.jupyter.widget-view+json": {
       "version_major": 2,
       "version_minor": 0,
       "model_id": "495ede0c22f548b9a51a8f2ea03371dc"
      }
     },
     "metadata": {},
     "output_type": "display_data"
    },
    {
     "data": {
      "text/plain": "Validation: 0it [00:00, ?it/s]",
      "application/vnd.jupyter.widget-view+json": {
       "version_major": 2,
       "version_minor": 0,
       "model_id": "b3f2838af3154022ac90ad3eea866dc3"
      }
     },
     "metadata": {},
     "output_type": "display_data"
    },
    {
     "data": {
      "text/plain": "Validation: 0it [00:00, ?it/s]",
      "application/vnd.jupyter.widget-view+json": {
       "version_major": 2,
       "version_minor": 0,
       "model_id": "ca290d64ef3c4632a930f188f4961323"
      }
     },
     "metadata": {},
     "output_type": "display_data"
    },
    {
     "data": {
      "text/plain": "Validation: 0it [00:00, ?it/s]",
      "application/vnd.jupyter.widget-view+json": {
       "version_major": 2,
       "version_minor": 0,
       "model_id": "12d4e1b019d247e1a40c395a2715470f"
      }
     },
     "metadata": {},
     "output_type": "display_data"
    },
    {
     "data": {
      "text/plain": "Validation: 0it [00:00, ?it/s]",
      "application/vnd.jupyter.widget-view+json": {
       "version_major": 2,
       "version_minor": 0,
       "model_id": "9d12d8153f6b4bcca3b9b3edfc9bd9f8"
      }
     },
     "metadata": {},
     "output_type": "display_data"
    },
    {
     "data": {
      "text/plain": "Validation: 0it [00:00, ?it/s]",
      "application/vnd.jupyter.widget-view+json": {
       "version_major": 2,
       "version_minor": 0,
       "model_id": "f8bc858ec11549bb9964cf4c99db82d0"
      }
     },
     "metadata": {},
     "output_type": "display_data"
    },
    {
     "data": {
      "text/plain": "Validation: 0it [00:00, ?it/s]",
      "application/vnd.jupyter.widget-view+json": {
       "version_major": 2,
       "version_minor": 0,
       "model_id": "163ea94d2b024be8b2a06b2cd834c05c"
      }
     },
     "metadata": {},
     "output_type": "display_data"
    },
    {
     "data": {
      "text/plain": "Validation: 0it [00:00, ?it/s]",
      "application/vnd.jupyter.widget-view+json": {
       "version_major": 2,
       "version_minor": 0,
       "model_id": "edacebbe1fd9487d97f5aebc97ada8ea"
      }
     },
     "metadata": {},
     "output_type": "display_data"
    },
    {
     "data": {
      "text/plain": "Validation: 0it [00:00, ?it/s]",
      "application/vnd.jupyter.widget-view+json": {
       "version_major": 2,
       "version_minor": 0,
       "model_id": "42b89dbc7ac741e08f7a6390fbb94027"
      }
     },
     "metadata": {},
     "output_type": "display_data"
    },
    {
     "data": {
      "text/plain": "Validation: 0it [00:00, ?it/s]",
      "application/vnd.jupyter.widget-view+json": {
       "version_major": 2,
       "version_minor": 0,
       "model_id": "68b37ed844904eaeaa204e167dc40275"
      }
     },
     "metadata": {},
     "output_type": "display_data"
    },
    {
     "data": {
      "text/plain": "Validation: 0it [00:00, ?it/s]",
      "application/vnd.jupyter.widget-view+json": {
       "version_major": 2,
       "version_minor": 0,
       "model_id": "1bd0c6cfed4c43369902e4dfacc6c2d1"
      }
     },
     "metadata": {},
     "output_type": "display_data"
    },
    {
     "data": {
      "text/plain": "Validation: 0it [00:00, ?it/s]",
      "application/vnd.jupyter.widget-view+json": {
       "version_major": 2,
       "version_minor": 0,
       "model_id": "2187c46dedc247d18064a10657e25612"
      }
     },
     "metadata": {},
     "output_type": "display_data"
    },
    {
     "data": {
      "text/plain": "Validation: 0it [00:00, ?it/s]",
      "application/vnd.jupyter.widget-view+json": {
       "version_major": 2,
       "version_minor": 0,
       "model_id": "6b8b2ba7737b4252a8f2b074812eb85c"
      }
     },
     "metadata": {},
     "output_type": "display_data"
    },
    {
     "data": {
      "text/plain": "Validation: 0it [00:00, ?it/s]",
      "application/vnd.jupyter.widget-view+json": {
       "version_major": 2,
       "version_minor": 0,
       "model_id": "c9cb5add546b43f492be6dfabb015fe1"
      }
     },
     "metadata": {},
     "output_type": "display_data"
    },
    {
     "data": {
      "text/plain": "Validation: 0it [00:00, ?it/s]",
      "application/vnd.jupyter.widget-view+json": {
       "version_major": 2,
       "version_minor": 0,
       "model_id": "c965a81d19e1496aa622d3c789ad399c"
      }
     },
     "metadata": {},
     "output_type": "display_data"
    },
    {
     "data": {
      "text/plain": "Validation: 0it [00:00, ?it/s]",
      "application/vnd.jupyter.widget-view+json": {
       "version_major": 2,
       "version_minor": 0,
       "model_id": "810fcda3e3e14d56a8762f98f2ecd612"
      }
     },
     "metadata": {},
     "output_type": "display_data"
    },
    {
     "data": {
      "text/plain": "Validation: 0it [00:00, ?it/s]",
      "application/vnd.jupyter.widget-view+json": {
       "version_major": 2,
       "version_minor": 0,
       "model_id": "ce563f081c894e48a22357cb16dc3138"
      }
     },
     "metadata": {},
     "output_type": "display_data"
    },
    {
     "data": {
      "text/plain": "Validation: 0it [00:00, ?it/s]",
      "application/vnd.jupyter.widget-view+json": {
       "version_major": 2,
       "version_minor": 0,
       "model_id": "edbb077c1d934d9283ef12ef995f2a03"
      }
     },
     "metadata": {},
     "output_type": "display_data"
    },
    {
     "data": {
      "text/plain": "Validation: 0it [00:00, ?it/s]",
      "application/vnd.jupyter.widget-view+json": {
       "version_major": 2,
       "version_minor": 0,
       "model_id": "8eae984d80b34a6fa586a3f461a141d8"
      }
     },
     "metadata": {},
     "output_type": "display_data"
    },
    {
     "data": {
      "text/plain": "Validation: 0it [00:00, ?it/s]",
      "application/vnd.jupyter.widget-view+json": {
       "version_major": 2,
       "version_minor": 0,
       "model_id": "5b1bb77c7b904c3ea3a741b94d69e7b6"
      }
     },
     "metadata": {},
     "output_type": "display_data"
    },
    {
     "data": {
      "text/plain": "Validation: 0it [00:00, ?it/s]",
      "application/vnd.jupyter.widget-view+json": {
       "version_major": 2,
       "version_minor": 0,
       "model_id": "a211e93f29794b2482f7770ce1cc7092"
      }
     },
     "metadata": {},
     "output_type": "display_data"
    },
    {
     "data": {
      "text/plain": "Validation: 0it [00:00, ?it/s]",
      "application/vnd.jupyter.widget-view+json": {
       "version_major": 2,
       "version_minor": 0,
       "model_id": "ed9d5853f4844933ad7229044839448b"
      }
     },
     "metadata": {},
     "output_type": "display_data"
    },
    {
     "data": {
      "text/plain": "Validation: 0it [00:00, ?it/s]",
      "application/vnd.jupyter.widget-view+json": {
       "version_major": 2,
       "version_minor": 0,
       "model_id": "3f186dcedde94b50afe6751adaeda3b2"
      }
     },
     "metadata": {},
     "output_type": "display_data"
    },
    {
     "data": {
      "text/plain": "Validation: 0it [00:00, ?it/s]",
      "application/vnd.jupyter.widget-view+json": {
       "version_major": 2,
       "version_minor": 0,
       "model_id": "b0fbc107fe87489a800af175eda93036"
      }
     },
     "metadata": {},
     "output_type": "display_data"
    }
   ],
   "source": [
    "from pytorch_lightning.callbacks import EarlyStopping\n",
    "\n",
    "early_stop_callback = EarlyStopping(monitor=\"acc\", min_delta=0.00, patience=4, verbose=False, mode=\"max\")\n",
    "trainer = pl.Trainer(max_epochs=40,\n",
    "                     accelerator='gpu',\n",
    "                     callbacks=[early_stop_callback]\n",
    "                     )\n",
    "trainer.fit(\n",
    "    model,\n",
    "    train_dataloaders=DataLoader(train_ds, batch_size=64, shuffle=True, num_workers=6),\n",
    "    val_dataloaders=DataLoader(val_ds, batch_size=128, shuffle=False, num_workers=2)\n",
    ")"
   ],
   "metadata": {
    "collapsed": false,
    "pycharm": {
     "name": "#%%\n"
    }
   }
  },
  {
   "cell_type": "markdown",
   "source": [
    "# Notes\n",
    "- Batch Size greatly speeds up convergence\n",
    "- Learning Rate has *some* effect on reducing jitter during training\n",
    "- Adding more 3x3 2DConv seems to consistently improve the network\n",
    "- Adding weight decay regularization for Adam reduces training overfitting\n",
    "- Adding BatchNorm significantly improves performance\n",
    "- ReLU performs significantly better than Sigmoid\n",
    "- Having a tiny Fully Connected Layer at the end improves training stability"
   ],
   "metadata": {
    "collapsed": false,
    "pycharm": {
     "name": "#%% md\n"
    }
   }
  },
  {
   "cell_type": "markdown",
   "source": [
    "# Changes\n",
    "- v11 uses a tiny FCN at the end\n",
    "- v11 -> v12 uses a 2048 -> DropOut -> 1024 -> DropOut -> 2 instead of 2048 -> 2\n",
    "- v11 -> v13 uses a AvgPool at the end (mimicking resnet)\n",
    "- v11 -> v14 uses LeakyReLU (Not much difference)\n",
    "- v11 -> v15 uses increase image size slightly, cropping out the middle\n",
    "- v15 -> v16 move crop to end of transform pipeline"
   ],
   "metadata": {
    "collapsed": false,
    "pycharm": {
     "name": "#%% md\n"
    }
   }
  },
  {
   "cell_type": "code",
   "execution_count": 5,
   "outputs": [],
   "source": [
    "\n",
    "\n",
    "tor.mos"
   ],
   "metadata": {
    "collapsed": false,
    "pycharm": {
     "name": "#%%\n"
    }
   }
  }
 ],
 "metadata": {
  "kernelspec": {
   "display_name": "Python 3",
   "language": "python",
   "name": "python3"
  },
  "language_info": {
   "codemirror_mode": {
    "name": "ipython",
    "version": 2
   },
   "file_extension": ".py",
   "mimetype": "text/x-python",
   "name": "python",
   "nbconvert_exporter": "python",
   "pygments_lexer": "ipython2",
   "version": "2.7.6"
  }
 },
 "nbformat": 4,
 "nbformat_minor": 0
}