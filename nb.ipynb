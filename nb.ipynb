{
 "cells": [
  {
   "cell_type": "code",
   "execution_count": 3,
   "outputs": [],
   "source": [
    "from pathlib import Path\n",
    "\n",
    "import torch\n",
    "from torch.utils.data import DataLoader\n",
    "from torchvision import transforms\n",
    "from torchvision.datasets import ImageFolder\n",
    "\n",
    "DATASET_PATH = Path(\"datasets\")\n",
    "TRAIN_PATH = DATASET_PATH / \"train\"\n",
    "TEST_PATH = DATASET_PATH / \"test\"\n",
    "VAL_PATH = DATASET_PATH / \"val\"\n",
    "img_size = 128\n",
    "train_ds = ImageFolder(\n",
    "    TRAIN_PATH.as_posix(),\n",
    "    transforms.Compose([\n",
    "        transforms.Resize([img_size, img_size]),\n",
    "        # transforms.RandomHorizontalFlip(),\n",
    "        # transforms.RandomRotation(15),\n",
    "        # transforms.RandomAffine(15),\n",
    "        # transforms.GaussianBlur(5, (0.1, 0.5)),\n",
    "        # transforms.ColorJitter(0.2, 0.2, 0.1, 0.01),\n",
    "        # transforms.CenterCrop(img_size),\n",
    "        transforms.ToTensor(),\n",
    "    ]))\n",
    "train_dl = DataLoader(train_ds)\n",
    "val_ds = ImageFolder(\n",
    "    VAL_PATH.as_posix(),\n",
    "    transforms.Compose([\n",
    "        transforms.Resize([img_size, img_size]),\n",
    "        # transforms.CenterCrop(img_size),\n",
    "        transforms.ToTensor(),\n",
    "    ])\n",
    ")\n",
    "val_dl = DataLoader(val_ds)"
   ],
   "metadata": {
    "collapsed": false,
    "pycharm": {
     "name": "#%%\n"
    }
   }
  },
  {
   "cell_type": "code",
   "execution_count": 30,
   "outputs": [
    {
     "data": {
      "text/plain": "tensor([[0.5736, 0.4264],\n        [0.4647, 0.5353],\n        [0.5627, 0.4373],\n        [0.6305, 0.3695],\n        [0.5337, 0.4663]], grad_fn=<SoftmaxBackward0>)"
     },
     "execution_count": 30,
     "metadata": {},
     "output_type": "execute_result"
    }
   ],
   "source": [
    "# Create a CNN Module\n",
    "import torch\n",
    "import torch.nn as nn\n",
    "import torch.nn.functional as F\n",
    "\n",
    "\n",
    "class CNNBlock(nn.Module):\n",
    "    def __init__(self, c_in, c_out, kernel=3):\n",
    "        super(CNNBlock, self).__init__()\n",
    "\n",
    "        self.net = nn.Sequential(\n",
    "            nn.Conv2d(c_in, c_out, kernel, 1, int((kernel - 1) // 2)),\n",
    "            nn.BatchNorm2d(c_out),\n",
    "            nn.ReLU(inplace=True),\n",
    "        )\n",
    "\n",
    "    def forward(self, x):\n",
    "        return self.net(x)\n",
    "\n",
    "\n",
    "class CNN(nn.Module):\n",
    "    def __init__(self):\n",
    "        super(CNN, self).__init__()\n",
    "\n",
    "        self.net = nn.Sequential(\n",
    "            CNNBlock(3, 16, 7),\n",
    "            CNNBlock(16, 16, 5),\n",
    "            nn.AvgPool2d(2, 2),\n",
    "            CNNBlock(16, 32),\n",
    "            nn.AvgPool2d(2, 2),\n",
    "            CNNBlock(32, 64),\n",
    "            nn.AvgPool2d(2, 2),\n",
    "            CNNBlock(64, 128),\n",
    "            nn.AvgPool2d(2, 2),\n",
    "            CNNBlock(128, 128),\n",
    "            nn.AvgPool2d(2, 2),\n",
    "            CNNBlock(128, 128),\n",
    "            nn.AvgPool2d(2, 2),\n",
    "            CNNBlock(128, 128),\n",
    "            nn.AvgPool2d(2, 2),\n",
    "            nn.Flatten(),\n",
    "            nn.Linear(128, 2),\n",
    "            nn.Dropout(0.1),\n",
    "            nn.Softmax(dim=1),\n",
    "        )\n",
    "\n",
    "    def forward(self, x):\n",
    "        return self.net(x)\n",
    "\n",
    "\n",
    "CNN()(torch.rand([5, 3, img_size, img_size]))"
   ],
   "metadata": {
    "collapsed": false,
    "pycharm": {
     "name": "#%%\n"
    }
   }
  },
  {
   "cell_type": "code",
   "execution_count": 31,
   "outputs": [
    {
     "data": {
      "text/plain": "=================================================================\nLayer (type:depth-idx)                   Param #\n=================================================================\nCNN                                      --\n├─Sequential: 1-1                        --\n│    └─CNNBlock: 2-1                     --\n│    │    └─Sequential: 3-1              2,400\n│    └─CNNBlock: 2-2                     --\n│    │    └─Sequential: 3-2              6,448\n│    └─AvgPool2d: 2-3                    --\n│    └─CNNBlock: 2-4                     --\n│    │    └─Sequential: 3-3              4,704\n│    └─AvgPool2d: 2-5                    --\n│    └─CNNBlock: 2-6                     --\n│    │    └─Sequential: 3-4              18,624\n│    └─AvgPool2d: 2-7                    --\n│    └─CNNBlock: 2-8                     --\n│    │    └─Sequential: 3-5              74,112\n│    └─AvgPool2d: 2-9                    --\n│    └─CNNBlock: 2-10                    --\n│    │    └─Sequential: 3-6              147,840\n│    └─AvgPool2d: 2-11                   --\n│    └─CNNBlock: 2-12                    --\n│    │    └─Sequential: 3-7              147,840\n│    └─AvgPool2d: 2-13                   --\n│    └─CNNBlock: 2-14                    --\n│    │    └─Sequential: 3-8              147,840\n│    └─AvgPool2d: 2-15                   --\n│    └─Flatten: 2-16                     --\n│    └─Linear: 2-17                      258\n│    └─Dropout: 2-18                     --\n│    └─Softmax: 2-19                     --\n=================================================================\nTotal params: 550,066\nTrainable params: 550,066\nNon-trainable params: 0\n================================================================="
     },
     "execution_count": 31,
     "metadata": {},
     "output_type": "execute_result"
    }
   ],
   "source": [
    "from torchinfo import summary\n",
    "summary(CNN())"
   ],
   "metadata": {
    "collapsed": false,
    "pycharm": {
     "name": "#%%\n"
    }
   }
  },
  {
   "cell_type": "code",
   "execution_count": 32,
   "outputs": [],
   "source": [
    "# Create a pytorch lightning module\n",
    "import pytorch_lightning as pl\n",
    "\n",
    "\n",
    "class LitModel(pl.LightningModule):\n",
    "    def __init__(self):\n",
    "        super().__init__()\n",
    "        self.model = CNN()\n",
    "\n",
    "    def forward(self, x):\n",
    "        return self.model(x)\n",
    "\n",
    "    def training_step(self, batch, batch_idx):\n",
    "        x, y = batch\n",
    "        y_hat = self(x)\n",
    "        loss = F.cross_entropy(y_hat, y)\n",
    "        acc = torch.sum(torch.argmax(y_hat, dim=1) == y) / y.shape[0]\n",
    "        self.log(\"train_acc\", acc)\n",
    "        return loss\n",
    "\n",
    "    def validation_step(self, batch, batch_idx):\n",
    "        x, y = batch\n",
    "        y_hat = self(x)\n",
    "        acc = torch.sum(torch.argmax(y_hat, dim=1) == y) / y.shape[0]\n",
    "        self.log(\"acc\", acc)\n",
    "\n",
    "    def configure_optimizers(self):\n",
    "        return torch.optim.Adam(self.parameters(), lr=0.0005, weight_decay=0.00001)\n"
   ],
   "metadata": {
    "collapsed": false,
    "pycharm": {
     "name": "#%%\n"
    }
   }
  },
  {
   "cell_type": "code",
   "execution_count": 33,
   "outputs": [],
   "source": [
    "model = LitModel()"
   ],
   "metadata": {
    "collapsed": false,
    "pycharm": {
     "name": "#%%\n"
    }
   }
  },
  {
   "cell_type": "code",
   "execution_count": null,
   "outputs": [
    {
     "name": "stderr",
     "output_type": "stream",
     "text": [
      "GPU available: True (cuda), used: True\n",
      "TPU available: False, using: 0 TPU cores\n",
      "IPU available: False, using: 0 IPUs\n",
      "HPU available: False, using: 0 HPUs\n",
      "LOCAL_RANK: 0 - CUDA_VISIBLE_DEVICES: [0]\n",
      "\n",
      "  | Name  | Type | Params\n",
      "-------------------------------\n",
      "0 | model | CNN  | 550 K \n",
      "-------------------------------\n",
      "550 K     Trainable params\n",
      "0         Non-trainable params\n",
      "550 K     Total params\n",
      "2.200     Total estimated model params size (MB)\n"
     ]
    },
    {
     "data": {
      "text/plain": "Sanity Checking: 0it [00:00, ?it/s]",
      "application/vnd.jupyter.widget-view+json": {
       "version_major": 2,
       "version_minor": 0,
       "model_id": "be90fab2b42147a3bb2c239f6b25a18f"
      }
     },
     "metadata": {},
     "output_type": "display_data"
    },
    {
     "data": {
      "text/plain": "Training: 0it [00:00, ?it/s]",
      "application/vnd.jupyter.widget-view+json": {
       "version_major": 2,
       "version_minor": 0,
       "model_id": "413c3cffa78641db9316f4aa19f1f603"
      }
     },
     "metadata": {},
     "output_type": "display_data"
    },
    {
     "data": {
      "text/plain": "Validation: 0it [00:00, ?it/s]",
      "application/vnd.jupyter.widget-view+json": {
       "version_major": 2,
       "version_minor": 0,
       "model_id": "f6bf6e6a8169406cae6a3e2514721be3"
      }
     },
     "metadata": {},
     "output_type": "display_data"
    },
    {
     "data": {
      "text/plain": "Validation: 0it [00:00, ?it/s]",
      "application/vnd.jupyter.widget-view+json": {
       "version_major": 2,
       "version_minor": 0,
       "model_id": "32df91b03db2432b9cde817351b36f18"
      }
     },
     "metadata": {},
     "output_type": "display_data"
    },
    {
     "data": {
      "text/plain": "Validation: 0it [00:00, ?it/s]",
      "application/vnd.jupyter.widget-view+json": {
       "version_major": 2,
       "version_minor": 0,
       "model_id": "c989794b31c540ed81d69a1e5209ad47"
      }
     },
     "metadata": {},
     "output_type": "display_data"
    },
    {
     "data": {
      "text/plain": "Validation: 0it [00:00, ?it/s]",
      "application/vnd.jupyter.widget-view+json": {
       "version_major": 2,
       "version_minor": 0,
       "model_id": "48948cd58d784882bede7d5919786001"
      }
     },
     "metadata": {},
     "output_type": "display_data"
    },
    {
     "data": {
      "text/plain": "Validation: 0it [00:00, ?it/s]",
      "application/vnd.jupyter.widget-view+json": {
       "version_major": 2,
       "version_minor": 0,
       "model_id": "4fa6a98eac6a45db844ea76cbc16913c"
      }
     },
     "metadata": {},
     "output_type": "display_data"
    },
    {
     "data": {
      "text/plain": "Validation: 0it [00:00, ?it/s]",
      "application/vnd.jupyter.widget-view+json": {
       "version_major": 2,
       "version_minor": 0,
       "model_id": "f17850d5ae7245729382a7054c94e631"
      }
     },
     "metadata": {},
     "output_type": "display_data"
    },
    {
     "data": {
      "text/plain": "Validation: 0it [00:00, ?it/s]",
      "application/vnd.jupyter.widget-view+json": {
       "version_major": 2,
       "version_minor": 0,
       "model_id": "b1a8706ff4cf47a6952e5ab6c8d24c63"
      }
     },
     "metadata": {},
     "output_type": "display_data"
    },
    {
     "data": {
      "text/plain": "Validation: 0it [00:00, ?it/s]",
      "application/vnd.jupyter.widget-view+json": {
       "version_major": 2,
       "version_minor": 0,
       "model_id": "a8cb00ed780d4dfcb27e9b9b860b60fe"
      }
     },
     "metadata": {},
     "output_type": "display_data"
    },
    {
     "data": {
      "text/plain": "Validation: 0it [00:00, ?it/s]",
      "application/vnd.jupyter.widget-view+json": {
       "version_major": 2,
       "version_minor": 0,
       "model_id": "1681e54af0894186a32dadb1593ae366"
      }
     },
     "metadata": {},
     "output_type": "display_data"
    },
    {
     "data": {
      "text/plain": "Validation: 0it [00:00, ?it/s]",
      "application/vnd.jupyter.widget-view+json": {
       "version_major": 2,
       "version_minor": 0,
       "model_id": "8e2b9f6a26164bba95c5f2797da31f22"
      }
     },
     "metadata": {},
     "output_type": "display_data"
    },
    {
     "data": {
      "text/plain": "Validation: 0it [00:00, ?it/s]",
      "application/vnd.jupyter.widget-view+json": {
       "version_major": 2,
       "version_minor": 0,
       "model_id": "aefdb0c0f4ff454ca787aacbe8f755f4"
      }
     },
     "metadata": {},
     "output_type": "display_data"
    },
    {
     "data": {
      "text/plain": "Validation: 0it [00:00, ?it/s]",
      "application/vnd.jupyter.widget-view+json": {
       "version_major": 2,
       "version_minor": 0,
       "model_id": "4ad607073b0d4d6fad8915b0e6370734"
      }
     },
     "metadata": {},
     "output_type": "display_data"
    },
    {
     "data": {
      "text/plain": "Validation: 0it [00:00, ?it/s]",
      "application/vnd.jupyter.widget-view+json": {
       "version_major": 2,
       "version_minor": 0,
       "model_id": "367aeb6f753a4e60824a8157acb8eed6"
      }
     },
     "metadata": {},
     "output_type": "display_data"
    }
   ],
   "source": [
    "from pytorch_lightning.callbacks import EarlyStopping\n",
    "\n",
    "early_stop_callback = EarlyStopping(monitor=\"acc\", min_delta=0.00, patience=4, verbose=False, mode=\"max\")\n",
    "trainer = pl.Trainer(max_epochs=40,\n",
    "                     accelerator='gpu',\n",
    "                     callbacks=[early_stop_callback]\n",
    "                     )\n",
    "trainer.fit(\n",
    "    model,\n",
    "    train_dataloaders=DataLoader(train_ds, batch_size=64, shuffle=True, num_workers=6),\n",
    "    val_dataloaders=DataLoader(val_ds, batch_size=128, shuffle=False, num_workers=2)\n",
    ")"
   ],
   "metadata": {
    "collapsed": false,
    "pycharm": {
     "name": "#%%\n",
     "is_executing": true
    }
   }
  },
  {
   "cell_type": "markdown",
   "source": [
    "# Notes\n",
    "- Batch Size greatly speeds up convergence\n",
    "- Learning Rate has *some* effect on reducing jitter during training\n",
    "- Adding more 3x3 2DConv seems to consistently improve the network\n",
    "- Adding weight decay regularization for Adam reduces training overfitting\n",
    "- Adding BatchNorm significantly improves performance\n",
    "- ReLU performs significantly better than Sigmoid\n",
    "- Having a tiny Fully Connected Layer at the end improves training stability"
   ],
   "metadata": {
    "collapsed": false,
    "pycharm": {
     "name": "#%% md\n"
    }
   }
  },
  {
   "cell_type": "markdown",
   "source": [
    "# Changes\n",
    "- v11 uses a tiny FCN at the end\n",
    "- v11 -> v12 uses a 2048 -> DropOut -> 1024 -> DropOut -> 2 instead of 2048 -> 2\n",
    "- v11 -> v13 uses a AvgPool at the end (mimicking resnet)\n",
    "- v11 -> v14 uses LeakyReLU (Not much difference)\n",
    "- v11 -> v15 uses increase image size slightly, cropping out the middle\n",
    "- v15 -> v16 move crop to end of transform pipeline\n",
    "- v20 AvePoolModel"
   ],
   "metadata": {
    "collapsed": false,
    "pycharm": {
     "name": "#%% md\n"
    }
   }
  },
  {
   "cell_type": "code",
   "execution_count": 5,
   "outputs": [],
   "source": [
    "\n",
    "\n",
    "tor.mos"
   ],
   "metadata": {
    "collapsed": false,
    "pycharm": {
     "name": "#%%\n"
    }
   }
  }
 ],
 "metadata": {
  "kernelspec": {
   "display_name": "Python 3",
   "language": "python",
   "name": "python3"
  },
  "language_info": {
   "codemirror_mode": {
    "name": "ipython",
    "version": 2
   },
   "file_extension": ".py",
   "mimetype": "text/x-python",
   "name": "python",
   "nbconvert_exporter": "python",
   "pygments_lexer": "ipython2",
   "version": "2.7.6"
  }
 },
 "nbformat": 4,
 "nbformat_minor": 0
}