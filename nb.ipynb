{
 "cells": [
  {
   "cell_type": "code",
   "execution_count": 1,
   "outputs": [],
   "source": [
    "from pathlib import Path\n",
    "\n",
    "import torch\n",
    "from torch.utils.data import DataLoader\n",
    "from torchvision import transforms\n",
    "from torchvision.datasets import ImageFolder\n",
    "\n",
    "DATASET_PATH = Path(\"datasets\")\n",
    "TRAIN_PATH = DATASET_PATH / \"train\"\n",
    "TEST_PATH = DATASET_PATH / \"test\"\n",
    "VAL_PATH = DATASET_PATH / \"val\"\n",
    "img_size = 64\n",
    "train_ds = ImageFolder(\n",
    "    TRAIN_PATH.as_posix(),\n",
    "    transforms.Compose([\n",
    "        transforms.Resize([img_size, img_size]),\n",
    "        # transforms.RandomHorizontalFlip(),\n",
    "        # transforms.RandomRotation(15),\n",
    "        # transforms.RandomAffine(15),\n",
    "        # transforms.GaussianBlur(5, (0.1, 0.5)),\n",
    "        # # transforms.ColorJitter(0.2, 0.2, 0.1, 0.01),\n",
    "        # transforms.CenterCrop(img_size),\n",
    "        transforms.ToTensor(),\n",
    "    ]))\n",
    "train_dl = DataLoader(train_ds)\n",
    "val_ds = ImageFolder(\n",
    "    VAL_PATH.as_posix(),\n",
    "    transforms.Compose([\n",
    "        transforms.Resize([img_size, img_size]),\n",
    "        # transforms.CenterCrop(img_size),\n",
    "        transforms.ToTensor(),\n",
    "    ])\n",
    ")\n",
    "val_dl = DataLoader(val_ds)"
   ],
   "metadata": {
    "collapsed": false,
    "pycharm": {
     "name": "#%%\n"
    }
   }
  },
  {
   "cell_type": "code",
   "execution_count": 2,
   "outputs": [
    {
     "data": {
      "text/plain": "torch.Size([5, 2])"
     },
     "execution_count": 2,
     "metadata": {},
     "output_type": "execute_result"
    }
   ],
   "source": [
    "# Create a CNN Module\n",
    "import torch.nn as nn\n",
    "import torch.nn.functional as F\n",
    "\n",
    "\n",
    "class CNNBlock(nn.Module):\n",
    "    def __init__(self, c_in, c_out, kernel=3, dropout=0.1):\n",
    "        super(CNNBlock, self).__init__()\n",
    "\n",
    "        self.net = nn.Sequential(\n",
    "            nn.Conv2d(c_in, c_out, kernel, 1, 1),\n",
    "            nn.BatchNorm2d(c_out),\n",
    "            nn.MaxPool2d(kernel_size=2, stride=2),\n",
    "            nn.Dropout(dropout),\n",
    "            nn.ReLU(inplace=True)\n",
    "        )\n",
    "\n",
    "    def forward(self, x):\n",
    "        return self.net(x)\n",
    "\n",
    "\n",
    "class CNN(nn.Module):\n",
    "    def __init__(self):\n",
    "        super(CNN, self).__init__()\n",
    "\n",
    "        self.net = nn.Sequential(\n",
    "            CNNBlock(3,  32),\n",
    "            CNNBlock(32, 64),\n",
    "            CNNBlock(64, 128),\n",
    "            CNNBlock(128, 256),\n",
    "            CNNBlock(256, 512),\n",
    "            CNNBlock(512, 1024),\n",
    "            # CNNBlock(1024, 2048),\n",
    "            nn.Flatten(),\n",
    "            nn.Linear(1024, 2),\n",
    "            nn.Softmax(dim=1),\n",
    "        )\n",
    "\n",
    "    def forward(self, x):\n",
    "        return self.net(x)\n",
    "\n",
    "\n",
    "CNN()(torch.ones([5, 3, img_size, img_size])).shape"
   ],
   "metadata": {
    "collapsed": false,
    "pycharm": {
     "name": "#%%\n"
    }
   }
  },
  {
   "cell_type": "code",
   "execution_count": 3,
   "outputs": [],
   "source": [
    "# Create a pytorch lightning module\n",
    "import pytorch_lightning as pl\n",
    "\n",
    "\n",
    "class LitModel(pl.LightningModule):\n",
    "    def __init__(self):\n",
    "        super().__init__()\n",
    "        self.model = CNN()\n",
    "\n",
    "    def forward(self, x):\n",
    "        return self.model(x)\n",
    "\n",
    "    def training_step(self, batch, batch_idx):\n",
    "        x, y = batch\n",
    "        y_hat = self(x)\n",
    "        loss = F.cross_entropy(y_hat, y)\n",
    "        acc = torch.sum(torch.argmax(y_hat, dim=1) == y) / y.shape[0]\n",
    "        self.log(\"train_acc\", acc)\n",
    "        return loss\n",
    "\n",
    "    def validation_step(self, batch, batch_idx):\n",
    "        x, y = batch\n",
    "        y_hat = self(x)\n",
    "        acc = torch.sum(torch.argmax(y_hat, dim=1) == y) / y.shape[0]\n",
    "        self.log(\"acc\", acc)\n",
    "\n",
    "    def configure_optimizers(self):\n",
    "        return torch.optim.Adam(self.parameters(), lr=0.0005, weight_decay=0.00001)\n"
   ],
   "metadata": {
    "collapsed": false,
    "pycharm": {
     "name": "#%%\n"
    }
   }
  },
  {
   "cell_type": "code",
   "execution_count": 4,
   "outputs": [],
   "source": [
    "model = LitModel()"
   ],
   "metadata": {
    "collapsed": false,
    "pycharm": {
     "name": "#%%\n"
    }
   }
  },
  {
   "cell_type": "code",
   "execution_count": null,
   "outputs": [
    {
     "name": "stderr",
     "output_type": "stream",
     "text": [
      "GPU available: True (cuda), used: True\n",
      "TPU available: False, using: 0 TPU cores\n",
      "IPU available: False, using: 0 IPUs\n",
      "HPU available: False, using: 0 HPUs\n",
      "LOCAL_RANK: 0 - CUDA_VISIBLE_DEVICES: [0]\n",
      "\n",
      "  | Name  | Type | Params\n",
      "-------------------------------\n",
      "0 | model | CNN  | 6.3 M \n",
      "-------------------------------\n",
      "6.3 M     Trainable params\n",
      "0         Non-trainable params\n",
      "6.3 M     Total params\n",
      "25.177    Total estimated model params size (MB)\n"
     ]
    },
    {
     "data": {
      "text/plain": "Sanity Checking: 0it [00:00, ?it/s]",
      "application/vnd.jupyter.widget-view+json": {
       "version_major": 2,
       "version_minor": 0,
       "model_id": "c1578a75208c4fcc86807d92acefdcef"
      }
     },
     "metadata": {},
     "output_type": "display_data"
    },
    {
     "name": "stderr",
     "output_type": "stream",
     "text": [
      "C:\\Users\\johnc\\anaconda3\\envs\\IE4483\\lib\\site-packages\\pytorch_lightning\\trainer\\connectors\\data_connector.py:236: PossibleUserWarning: The dataloader, val_dataloader 0, does not have many workers which may be a bottleneck. Consider increasing the value of the `num_workers` argument` (try 16 which is the number of cpus on this machine) in the `DataLoader` init to improve performance.\n",
      "  rank_zero_warn(\n"
     ]
    },
    {
     "data": {
      "text/plain": "Training: 0it [00:00, ?it/s]",
      "application/vnd.jupyter.widget-view+json": {
       "version_major": 2,
       "version_minor": 0,
       "model_id": "50472141383d4514b36b6b4385ff46de"
      }
     },
     "metadata": {},
     "output_type": "display_data"
    },
    {
     "data": {
      "text/plain": "Validation: 0it [00:00, ?it/s]",
      "application/vnd.jupyter.widget-view+json": {
       "version_major": 2,
       "version_minor": 0,
       "model_id": "fb8577147a7e42e39e450d2ee416dcf6"
      }
     },
     "metadata": {},
     "output_type": "display_data"
    },
    {
     "data": {
      "text/plain": "Validation: 0it [00:00, ?it/s]",
      "application/vnd.jupyter.widget-view+json": {
       "version_major": 2,
       "version_minor": 0,
       "model_id": "a2bfba1f82d346aaacaf649f8451935c"
      }
     },
     "metadata": {},
     "output_type": "display_data"
    },
    {
     "data": {
      "text/plain": "Validation: 0it [00:00, ?it/s]",
      "application/vnd.jupyter.widget-view+json": {
       "version_major": 2,
       "version_minor": 0,
       "model_id": "a1f4812b1c53483291bf1f512c01d66e"
      }
     },
     "metadata": {},
     "output_type": "display_data"
    },
    {
     "data": {
      "text/plain": "Validation: 0it [00:00, ?it/s]",
      "application/vnd.jupyter.widget-view+json": {
       "version_major": 2,
       "version_minor": 0,
       "model_id": "8052ff1f127b4c72a5ade212a032bf62"
      }
     },
     "metadata": {},
     "output_type": "display_data"
    },
    {
     "data": {
      "text/plain": "Validation: 0it [00:00, ?it/s]",
      "application/vnd.jupyter.widget-view+json": {
       "version_major": 2,
       "version_minor": 0,
       "model_id": "ef97bd6e81994585a55c4d5c4b5ea206"
      }
     },
     "metadata": {},
     "output_type": "display_data"
    },
    {
     "data": {
      "text/plain": "Validation: 0it [00:00, ?it/s]",
      "application/vnd.jupyter.widget-view+json": {
       "version_major": 2,
       "version_minor": 0,
       "model_id": "28ea592ebbfd42f0bc98d96658b83ea7"
      }
     },
     "metadata": {},
     "output_type": "display_data"
    },
    {
     "data": {
      "text/plain": "Validation: 0it [00:00, ?it/s]",
      "application/vnd.jupyter.widget-view+json": {
       "version_major": 2,
       "version_minor": 0,
       "model_id": "7cb144a3eaa347a089aeac9c9f4ab0b5"
      }
     },
     "metadata": {},
     "output_type": "display_data"
    }
   ],
   "source": [
    "from pytorch_lightning.callbacks import EarlyStopping\n",
    "\n",
    "early_stop_callback = EarlyStopping(monitor=\"acc\", min_delta=0.00, patience=4, verbose=False, mode=\"max\")\n",
    "trainer = pl.Trainer(max_epochs=40,\n",
    "                     accelerator='gpu',\n",
    "                     callbacks=[early_stop_callback]\n",
    "                     )\n",
    "trainer.fit(\n",
    "    model,\n",
    "    train_dataloaders=DataLoader(train_ds, batch_size=16, shuffle=True, num_workers=8),\n",
    "    val_dataloaders=DataLoader(val_ds, batch_size=128, shuffle=False, num_workers=2)\n",
    ")"
   ],
   "metadata": {
    "collapsed": false,
    "pycharm": {
     "name": "#%%\n",
     "is_executing": true
    }
   }
  },
  {
   "cell_type": "markdown",
   "source": [
    "# Notes\n",
    "- Batch Size greatly speeds up convergence\n",
    "- Learning Rate has *some* effect on reducing jitter during training\n",
    "- Adding more 3x3 2DConv seems to consistently improve the network\n",
    "- Adding weight decay regularization for Adam reduces training overfitting\n",
    "- Adding BatchNorm significantly improves performance\n",
    "- ReLU performs significantly better than Sigmoid\n",
    "- Having a tiny Fully Connected Layer at the end improves training stability"
   ],
   "metadata": {
    "collapsed": false,
    "pycharm": {
     "name": "#%% md\n"
    }
   }
  },
  {
   "cell_type": "markdown",
   "source": [
    "# Changes\n",
    "- v11 uses a tiny FCN at the end\n",
    "- v11 -> v12 uses a 2048 -> DropOut -> 1024 -> DropOut -> 2 instead of 2048 -> 2\n",
    "- v11 -> v13 uses a AvgPool at the end (mimicking resnet)\n",
    "- v11 -> v14 uses LeakyReLU (Not much difference)\n",
    "- v11 -> v15 uses increase image size slightly, cropping out the middle\n",
    "- v15 -> v16 move crop to end of transform pipeline"
   ],
   "metadata": {
    "collapsed": false,
    "pycharm": {
     "name": "#%% md\n"
    }
   }
  },
  {
   "cell_type": "code",
   "execution_count": null,
   "outputs": [],
   "source": [],
   "metadata": {
    "collapsed": false,
    "pycharm": {
     "name": "#%%\n"
    }
   }
  }
 ],
 "metadata": {
  "kernelspec": {
   "display_name": "Python 3",
   "language": "python",
   "name": "python3"
  },
  "language_info": {
   "codemirror_mode": {
    "name": "ipython",
    "version": 2
   },
   "file_extension": ".py",
   "mimetype": "text/x-python",
   "name": "python",
   "nbconvert_exporter": "python",
   "pygments_lexer": "ipython2",
   "version": "2.7.6"
  }
 },
 "nbformat": 4,
 "nbformat_minor": 0
}